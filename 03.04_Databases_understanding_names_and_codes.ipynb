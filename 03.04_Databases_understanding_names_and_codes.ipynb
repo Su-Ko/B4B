{
 "cells": [
  {
   "cell_type": "markdown",
   "metadata": {},
   "source": [
    "## Product and activity names"
   ]
  },
  {
   "cell_type": "markdown",
   "metadata": {},
   "source": [
    "So the point is how to separate between the name of a product (e.g. _electricity, low voltage_) and the name of the activity producing it (e.g. _electricity production_).\n",
    "\n",
    "I don't think there is a good way to do this but let's see."
   ]
  },
  {
   "cell_type": "code",
   "execution_count": 1,
   "metadata": {
    "collapsed": true
   },
   "outputs": [],
   "source": [
    "import brightway2 as bw"
   ]
  },
  {
   "cell_type": "code",
   "execution_count": 2,
   "metadata": {},
   "outputs": [
    {
     "data": {
      "text/plain": [
       "Brightway2 projects manager with 14 objects:\n",
       "\tB4B18\n",
       "\tC3BO\n",
       "\tConseqUncertainty\n",
       "\tHH\n",
       "\tbw2_import_ecoinvent_2017\n",
       "\tbw2_import_ecoinvent_3.3\n",
       "\tbw2_import_ecoinvent_3.4\n",
       "\tbw2_seminar_ex1\n",
       "\tdefault\n",
       "\texiobase-SimaPro-import\n",
       "\texiobase_test\n",
       "\timport from csv file\n",
       "\ttestei34\n",
       "\ttesttime\n",
       "Use `projects.report()` to get a report on all projects."
      ]
     },
     "execution_count": 2,
     "metadata": {},
     "output_type": "execute_result"
    }
   ],
   "source": [
    "bw.projects"
   ]
  },
  {
   "cell_type": "code",
   "execution_count": 3,
   "metadata": {
    "collapsed": true
   },
   "outputs": [],
   "source": [
    "bw.projects.set_current(\"testei34\") # get one where there is ecoinvent\n",
    "if bw.Database(\"testdb\"):\n",
    "    bw.Database(\"testdb\").delete()\n",
    "t_db = bw.Database(\"testdb\")"
   ]
  },
  {
   "cell_type": "markdown",
   "metadata": {},
   "source": [
    "Here I create a database where I try various combinations of product and activity names"
   ]
  },
  {
   "cell_type": "code",
   "execution_count": 4,
   "metadata": {},
   "outputs": [
    {
     "name": "stderr",
     "output_type": "stream",
     "text": [
      "Writing activities to SQLite3 database:\n",
      "0% [#####] 100% | ETA: 00:00:00\n",
      "Total time elapsed: 00:00:00\n"
     ]
    },
    {
     "name": "stdout",
     "output_type": "stream",
     "text": [
      "Title: Writing activities to SQLite3 database:\n",
      "  Started: 03/12/2018 08:57:43\n",
      "  Finished: 03/12/2018 08:57:43\n",
      "  Total time elapsed: 00:00:00\n",
      "  CPU %: 112.50\n",
      "  Memory %: 0.72\n"
     ]
    }
   ],
   "source": [
    "t_db.write({\n",
    "    (\"testdb\", \"12alksdnaslkj\"):{   # Here I use a random sequence of nrs and letter as activity code (like in ecoinvent)\n",
    "        'name':'Electricity, low voltage',\n",
    "        'unit': 'kWh', \n",
    "        'exchanges': [{\n",
    "                'input': ('testdb', 'Fuel production'),\n",
    "                'amount': 2,\n",
    "                'unit': 'kg',\n",
    "                'type': 'technosphere'\n",
    "            },{\n",
    "                'input': ('testdb', 'Carbon dioxide'),\n",
    "                'amount': 1,\n",
    "                'unit': 'kg',\n",
    "                'type': 'biosphere'\n",
    "            },{\n",
    "                'input': ('testdb', 'Sulphur dioxide'),\n",
    "                'amount': 0.1,\n",
    "                'unit': 'kg',\n",
    "                'type': 'biosphere'\n",
    "            },{\n",
    "                'input': ('testdb', '12alksdnaslkj'), #important to write the same process name in output\n",
    "                'amount': 10,\n",
    "                'unit': 'kWh',\n",
    "                'type': 'production'\n",
    "            }]\n",
    "        },\n",
    "    ('testdb', 'Fuel production'):{ # Here I use a name as activity name\n",
    "        'name': 'Refined fuel',\n",
    "        'unit': 'kg',\n",
    "        'exchanges':[{\n",
    "                'input': ('testdb', 'Carbon dioxide'),\n",
    "                'amount': 10,\n",
    "                'unit': 'kg',\n",
    "                'type': 'biosphere'\n",
    "            },{\n",
    "                'input': ('testdb', 'Sulphur dioxide'),\n",
    "                'amount': 2,\n",
    "                'unit': 'kg',\n",
    "                'type': 'biosphere'\n",
    "            },{\n",
    "                'input': ('testdb', 'Crude oil'),\n",
    "                'amount': -50,\n",
    "                'unit': 'kg',\n",
    "                'type': 'biosphere'\n",
    "            },{\n",
    "                'input': ('testdb', 'Fuel production'),\n",
    "                'amount': 1,\n",
    "                'unit': 'kg',\n",
    "                'type': 'production'\n",
    "            }]\n",
    "    },\n",
    "    ('testdb', 'Carbon dioxide'):{'name': 'Carbon dioxide', 'unit':'kg', 'type': 'biosphere'},\n",
    "    ('testdb', 'Sulphur dioxide'):{'name': 'Sulphur dioxide', 'unit':'kg', 'type': 'biosphere'},\n",
    "    ('testdb', 'Crude oil'):{'name': 'Crude oil', 'unit':'kg', 'type': 'biosphere'}\n",
    "\n",
    "    })\n",
    "\n",
    "functional_unit = {t_db.get(\"12alksdnaslkj\") : 1}\n",
    "lca = bw.LCA(functional_unit) \n",
    "lca.lci()"
   ]
  },
  {
   "cell_type": "markdown",
   "metadata": {},
   "source": [
    "Let's get an activity from ecoinvent and from this database so we can compare"
   ]
  },
  {
   "cell_type": "code",
   "execution_count": 5,
   "metadata": {},
   "outputs": [
    {
     "data": {
      "text/plain": [
       "Databases dictionary with 3 object(s):\n",
       "\tbiosphere3\n",
       "\tecoinvent 3.4 conseq\n",
       "\ttestdb"
      ]
     },
     "execution_count": 5,
     "metadata": {},
     "output_type": "execute_result"
    }
   ],
   "source": [
    "bw.databases"
   ]
  },
  {
   "cell_type": "code",
   "execution_count": 6,
   "metadata": {},
   "outputs": [
    {
     "name": "stdout",
     "output_type": "stream",
     "text": [
      "'heat and power co-generation unit construction, 500kW electrical, components for electricity only' (unit, RoW, None)\n"
     ]
    }
   ],
   "source": [
    "mydb = bw.Database('ecoinvent 3.4 conseq')\n",
    "myact = mydb.random()\n",
    "print(myact)"
   ]
  },
  {
   "cell_type": "code",
   "execution_count": 7,
   "metadata": {
    "collapsed": true
   },
   "outputs": [],
   "source": [
    "myact2 = t_db.get(\"12alksdnaslkj\")"
   ]
  },
  {
   "cell_type": "markdown",
   "metadata": {},
   "source": [
    "Let's compare the two"
   ]
  },
  {
   "cell_type": "code",
   "execution_count": 10,
   "metadata": {},
   "outputs": [
    {
     "name": "stdout",
     "output_type": "stream",
     "text": [
      "technosphere\n",
      "('ecoinvent 3.4 conseq', 'c0972aee6c3244a5b7a0c6690e56f8f8')\n",
      "'market for assembly of generator and motor, auxilliaries and energy use, heat and power co-generation unit, 160kW' (unit, GLO, None)\n",
      "'heat and power co-generation unit construction, 500kW electrical, components for electricity only' (unit, RoW, None)\n",
      "***\n",
      "production\n",
      "('ecoinvent 3.4 conseq', '046cbe8c89897c7047b3fad63f0a7279')\n",
      "'heat and power co-generation unit construction, 500kW electrical, components for electricity only' (unit, RoW, None)\n",
      "'heat and power co-generation unit construction, 500kW electrical, components for electricity only' (unit, RoW, None)\n",
      "***\n",
      "technosphere\n",
      "('ecoinvent 3.4 conseq', 'f63cad4b06b9edb3311984cca45585a3')\n",
      "'market for generator, 200kW electrical' (unit, GLO, None)\n",
      "'heat and power co-generation unit construction, 500kW electrical, components for electricity only' (unit, RoW, None)\n",
      "***\n",
      "technosphere\n",
      "('ecoinvent 3.4 conseq', '8b23dcf0b6f1eaec15cda0a70e71e7d5')\n",
      "'market for electric parts, heat and power co-generation unit, 160kW electrical' (unit, GLO, None)\n",
      "'heat and power co-generation unit construction, 500kW electrical, components for electricity only' (unit, RoW, None)\n",
      "***\n"
     ]
    }
   ],
   "source": [
    "for exc in list(myact.exchanges()):\n",
    "    print(exc['type'])\n",
    "    print(exc['input'])\n",
    "    print(exc.input) # means 'from'\n",
    "    print(exc.output) # means 'to'\n",
    "    print('***')"
   ]
  },
  {
   "cell_type": "markdown",
   "metadata": {},
   "source": [
    "So the way ecoinvent is written in DB is withouth product manes, only activity names."
   ]
  },
  {
   "cell_type": "code",
   "execution_count": 9,
   "metadata": {},
   "outputs": [
    {
     "name": "stdout",
     "output_type": "stream",
     "text": [
      "technosphere\n",
      "('testdb', 'Fuel production')\n",
      "'Refined fuel' (kg, None, None)\n",
      "'Electricity, low voltage' (kWh, None, None)\n",
      "***\n",
      "biosphere\n",
      "('testdb', 'Carbon dioxide')\n",
      "'Carbon dioxide' (kg, None, None)\n",
      "'Electricity, low voltage' (kWh, None, None)\n",
      "***\n",
      "biosphere\n",
      "('testdb', 'Sulphur dioxide')\n",
      "'Sulphur dioxide' (kg, None, None)\n",
      "'Electricity, low voltage' (kWh, None, None)\n",
      "***\n",
      "production\n",
      "('testdb', '12alksdnaslkj')\n",
      "'Electricity, low voltage' (kWh, None, None)\n",
      "'Electricity, low voltage' (kWh, None, None)\n",
      "***\n"
     ]
    }
   ],
   "source": [
    "for exc in list(myact2.exchanges()):\n",
    "    print(exc['type'])\n",
    "    print(exc['input'])\n",
    "    print(exc.input) # means 'from'\n",
    "    print(exc.output) # means 'to'\n",
    "    print('***')"
   ]
  },
  {
   "cell_type": "markdown",
   "metadata": {
    "collapsed": true
   },
   "source": [
    "This looks like ecoinvent but I hav ethe names of the products. To be fully consistent I shuold use this format instead"
   ]
  },
  {
   "cell_type": "code",
   "execution_count": 14,
   "metadata": {},
   "outputs": [
    {
     "name": "stderr",
     "output_type": "stream",
     "text": [
      "Writing activities to SQLite3 database:\n",
      "0% [#####] 100% | ETA: 00:00:00\n",
      "Total time elapsed: 00:00:00\n"
     ]
    },
    {
     "name": "stdout",
     "output_type": "stream",
     "text": [
      "Title: Writing activities to SQLite3 database:\n",
      "  Started: 03/12/2018 09:03:55\n",
      "  Finished: 03/12/2018 09:03:55\n",
      "  Total time elapsed: 00:00:00\n",
      "  CPU %: 109.20\n",
      "  Memory %: 0.76\n"
     ]
    }
   ],
   "source": [
    "t_db2 = bw.Database(\"testdb2\")\n",
    "t_db2.write({\n",
    "    (\"testdb2\", \"12alksdnaslkj\"):{   # Here I use a random sequence of nrs and letter as activity code (like in ecoinvent)\n",
    "        'name':'Electricity production',\n",
    "        'unit': 'kWh', \n",
    "        'exchanges': [{\n",
    "                'input': ('testdb2', '12239402790sdfa'),\n",
    "                'amount': 2,\n",
    "                'unit': 'kg',\n",
    "                'type': 'technosphere'\n",
    "            },{\n",
    "                'input': ('testdb2', 'Carbon dioxide'),\n",
    "                'amount': 1,\n",
    "                'unit': 'kg',\n",
    "                'type': 'biosphere'\n",
    "            },{\n",
    "                'input': ('testdb2', 'Sulphur dioxide'),\n",
    "                'amount': 0.1,\n",
    "                'unit': 'kg',\n",
    "                'type': 'biosphere'\n",
    "            },{\n",
    "                'input': ('testdb2', '12alksdnaslkj'), #important to write the same process name in output\n",
    "                'amount': 10,\n",
    "                'unit': 'kWh',\n",
    "                'type': 'production'\n",
    "            }]\n",
    "        },\n",
    "    ('testdb2', '12239402790sdfa'):{ # Here I use a name as activity name\n",
    "        'name': 'Fuel production',\n",
    "        'unit': 'kg',\n",
    "        'exchanges':[{\n",
    "                'input': ('testdb2', 'Carbon dioxide'),\n",
    "                'amount': 10,\n",
    "                'unit': 'kg',\n",
    "                'type': 'biosphere'\n",
    "            },{\n",
    "                'input': ('testdb2', 'Sulphur dioxide'),\n",
    "                'amount': 2,\n",
    "                'unit': 'kg',\n",
    "                'type': 'biosphere'\n",
    "            },{\n",
    "                'input': ('testdb2', 'Crude oil'),\n",
    "                'amount': -50,\n",
    "                'unit': 'kg',\n",
    "                'type': 'biosphere'\n",
    "            },{\n",
    "                'input': ('testdb2', '12239402790sdfa'),\n",
    "                'amount': 1,\n",
    "                'unit': 'kg',\n",
    "                'type': 'production'\n",
    "            }]\n",
    "    },\n",
    "    ('testdb2', 'Carbon dioxide'):{'name': 'Carbon dioxide', 'unit':'kg', 'type': 'biosphere'},\n",
    "    ('testdb2', 'Sulphur dioxide'):{'name': 'Sulphur dioxide', 'unit':'kg', 'type': 'biosphere'},\n",
    "    ('testdb2', 'Crude oil'):{'name': 'Crude oil', 'unit':'kg', 'type': 'biosphere'}\n",
    "\n",
    "    })\n"
   ]
  },
  {
   "cell_type": "code",
   "execution_count": 15,
   "metadata": {
    "collapsed": true
   },
   "outputs": [],
   "source": [
    "myact_v = t_db2.get(\"12alksdnaslkj\")"
   ]
  },
  {
   "cell_type": "code",
   "execution_count": 16,
   "metadata": {},
   "outputs": [
    {
     "name": "stdout",
     "output_type": "stream",
     "text": [
      "technosphere\n",
      "('testdb2', '12239402790sdfa')\n",
      "'Fuel production' (kg, None, None)\n",
      "'Electricity production' (kWh, None, None)\n",
      "***\n",
      "biosphere\n",
      "('testdb2', 'Carbon dioxide')\n",
      "'Carbon dioxide' (kg, None, None)\n",
      "'Electricity production' (kWh, None, None)\n",
      "***\n",
      "biosphere\n",
      "('testdb2', 'Sulphur dioxide')\n",
      "'Sulphur dioxide' (kg, None, None)\n",
      "'Electricity production' (kWh, None, None)\n",
      "***\n",
      "production\n",
      "('testdb2', '12alksdnaslkj')\n",
      "'Electricity production' (kWh, None, None)\n",
      "'Electricity production' (kWh, None, None)\n",
      "***\n"
     ]
    }
   ],
   "source": [
    "for exc in list(myact_v.exchanges()):\n",
    "    print(exc['type'])\n",
    "    print(exc['input'])\n",
    "    print(exc.input) # means 'from'\n",
    "    print(exc.output) # means 'to'\n",
    "    print('***')"
   ]
  },
  {
   "cell_type": "code",
   "execution_count": null,
   "metadata": {
    "collapsed": true
   },
   "outputs": [],
   "source": []
  }
 ],
 "metadata": {
  "kernelspec": {
   "display_name": "Python 3",
   "language": "python",
   "name": "python3"
  },
  "language_info": {
   "codemirror_mode": {
    "name": "ipython",
    "version": 3
   },
   "file_extension": ".py",
   "mimetype": "text/x-python",
   "name": "python",
   "nbconvert_exporter": "python",
   "pygments_lexer": "ipython3",
   "version": "3.6.4"
  }
 },
 "nbformat": 4,
 "nbformat_minor": 2
}
